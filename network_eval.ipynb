{
 "cells": [
  {
   "cell_type": "code",
   "execution_count": 1,
   "metadata": {},
   "outputs": [],
   "source": [
    "import torch\n",
    "import torch.nn as nn\n",
    "from scipy.io import loadmat\n",
    "import numpy as np\n",
    "import random as rand\n",
    "import mlmodel\n",
    "import math\n",
    "import pickle as pkl\n",
    "import chart_studio.plotly as py\n",
    "from importlib import reload\n",
    "import plotly.graph_objects as go\n",
    "from functools import reduce\n",
    "\n",
    "import pose_2D as pose2d\n",
    "import pose_3D as pose3d\n",
    "import pose_2D_torch as pose2dtorch\n",
    "import pose_3D_torch as pose3dtorch\n",
    "import visual as vs\n",
    "\n",
    "from torch.utils.data import Dataset, DataLoader\n",
    "import torch.optim as optim"
   ]
  },
  {
   "cell_type": "code",
   "execution_count": 2,
   "metadata": {},
   "outputs": [],
   "source": [
    "import time, sys\n",
    "from IPython.display import clear_output\n",
    "\n",
    "def update_progress(progress,  message):\n",
    "    bar_length = 20\n",
    "    if isinstance(progress, int):\n",
    "        progress = float(progress)\n",
    "    if not isinstance(progress, float):\n",
    "        progress = 0\n",
    "    if progress < 0:\n",
    "        progress = 0\n",
    "    if progress >= 1:\n",
    "        progress = 1\n",
    "\n",
    "    block = int(round(bar_length * progress))\n",
    "\n",
    "    clear_output(wait = True)\n",
    "    text = \"Progress: [{0}] {1:.1f}%\".format( \"#\" * block + \"-\" * (bar_length - block), progress * 100)\n",
    "    print(text)\n",
    "    for m in message:\n",
    "        print(m)"
   ]
  },
  {
   "cell_type": "code",
   "execution_count": 3,
   "metadata": {},
   "outputs": [
    {
     "data": {
      "text/plain": [
       "True"
      ]
     },
     "execution_count": 3,
     "metadata": {},
     "output_type": "execute_result"
    }
   ],
   "source": [
    "torch.cuda.is_available()"
   ]
  },
  {
   "cell_type": "code",
   "execution_count": 5,
   "metadata": {},
   "outputs": [
    {
     "name": "stdout",
     "output_type": "stream",
     "text": [
      "Mon Dec  2 16:59:25 2019       \r\n",
      "+-----------------------------------------------------------------------------+\r\n",
      "| NVIDIA-SMI 430.26       Driver Version: 430.26       CUDA Version: 10.2     |\r\n",
      "|-------------------------------+----------------------+----------------------+\r\n",
      "| GPU  Name        Persistence-M| Bus-Id        Disp.A | Volatile Uncorr. ECC |\r\n",
      "| Fan  Temp  Perf  Pwr:Usage/Cap|         Memory-Usage | GPU-Util  Compute M. |\r\n",
      "|===============================+======================+======================|\r\n",
      "|   0  GeForce RTX 208...  Off  | 00000000:01:00.0 Off |                  N/A |\r\n",
      "| 31%   55C    P8    10W / 250W |     27MiB / 11016MiB |      0%      Default |\r\n",
      "+-------------------------------+----------------------+----------------------+\r\n",
      "|   1  GeForce RTX 208...  Off  | 00000000:03:00.0 Off |                  N/A |\r\n",
      "| 55%   73C    P2   222W / 257W |   7107MiB / 11019MiB |     85%      Default |\r\n",
      "+-------------------------------+----------------------+----------------------+\r\n",
      "                                                                               \r\n",
      "+-----------------------------------------------------------------------------+\r\n",
      "| Processes:                                                       GPU Memory |\r\n",
      "|  GPU       PID   Type   Process name                             Usage      |\r\n",
      "|=============================================================================|\r\n",
      "|    0       900      G   /usr/lib/xorg/Xorg                            14MiB |\r\n",
      "|    1     21815      C   ...nmarc/miniconda3/envs/DL-env/bin/python   937MiB |\r\n",
      "|    1     29373      C   /home/ilkan/anaconda3/envs/tf_2/bin/python  6159MiB |\r\n",
      "+-----------------------------------------------------------------------------+\r\n"
     ]
    }
   ],
   "source": [
    "!nvidia-smi"
   ]
  },
  {
   "cell_type": "code",
   "execution_count": 6,
   "metadata": {},
   "outputs": [
    {
     "data": {
      "text/plain": [
       "1"
      ]
     },
     "execution_count": 6,
     "metadata": {},
     "output_type": "execute_result"
    }
   ],
   "source": [
    "device = torch.device(\"cuda:1\" if torch.cuda.is_available() else \"cpu\")\n",
    "torch.cuda.set_device(device)\n",
    "torch.cuda.current_device()"
   ]
  },
  {
   "cell_type": "code",
   "execution_count": 7,
   "metadata": {},
   "outputs": [],
   "source": [
    "data_set_3d, data_set_2d, data_set_angles, data_set_props,data_depths, base_3dpose_data = \\\n",
    "                                                                        pkl.load(open(\"data/DATASETv_5a.pkl\", \"rb\"))"
   ]
  },
  {
   "cell_type": "code",
   "execution_count": 22,
   "metadata": {},
   "outputs": [],
   "source": [
    "import matplotlib.pyplot as plt"
   ]
  },
  {
   "cell_type": "code",
   "execution_count": 41,
   "metadata": {},
   "outputs": [],
   "source": [
    "def project_to_pixels(xyz, kk):\n",
    "    \"\"\"Project a single point in space into the image\"\"\"\n",
    "    xx, yy, zz = np.dot(kk, xyz)\n",
    "    uu = int(xx / zz)\n",
    "    vv = int(yy / zz)\n",
    "\n",
    "    return uu, vv\n",
    "def project_pose_2cam(pose, kk, z_shift, joints2keep):\n",
    "    \n",
    "    pose_moved = pose.copy()\n",
    "    pose_moved[2] += z_shift\n",
    "    projected_pose = []\n",
    "    \n",
    "    for point in pose_moved.transpose():\n",
    "        projected_pose.append(list(project_to_pixels(point, kk)))\n",
    "    \n",
    "    projected_pose = np.array(projected_pose).transpose().astype(float)\n",
    "    joints_indices = [pose2d.joint_dict[x] for x in joints2keep]\n",
    "    shift = (projected_pose[:,pose2d.joint_dict['right hip']] + \n",
    "             projected_pose[:,pose2d.joint_dict['left hip']]).reshape((2,1))/2\n",
    "    projected_pose[:,joints_indices] = pose2d.normalize(projected_pose[:,joints_indices], shift)\n",
    "    projected_pose = pose2d.filter_joints(projected_pose, joints2keep, -10).transpose().flatten()\n",
    "\n",
    "    return projected_pose"
   ]
  },
  {
   "cell_type": "code",
   "execution_count": 42,
   "metadata": {},
   "outputs": [],
   "source": [
    "LOGI_KK = [[0.7477614068838029, -0.0008111695246478873,  0.5134789751408451],\n",
    "           [0.0,                      1.33178042553125, 0.45684016428124996],\n",
    "           [0.                ,                     0.,                  1.]]\n",
    "\n",
    "width, height = 192, 108\n",
    "\n",
    "kk = [[x*width  for x in LOGI_KK[0]],\n",
    "      [x*height for x in LOGI_KK[1]],\n",
    "      LOGI_KK[2]]"
   ]
  },
  {
   "cell_type": "code",
   "execution_count": 53,
   "metadata": {},
   "outputs": [
    {
     "data": {
      "image/png": "[encoded data removed]",
      "text/plain": [
       "<Figure size 432x288 with 1 Axes>"
      ]
     },
     "metadata": {
      "needs_background": "light"
     },
     "output_type": "display_data"
    }
   ],
   "source": [
    "depth = 0.2\n",
    "pro_pose = project_pose_2cam(base_3dpose_data[0], kk, depth, joints2keep).reshape((21,2)).transpose()\n",
    "for joint in pose3d.joint_names:\n",
    "    if joint in joints2keep:\n",
    "        if 'right' in joint:\n",
    "            plt.scatter(pro_pose[0][pose3d.joint_dict[joint]],pro_pose[1][pose3d.joint_dict[joint]], c='green')\n",
    "        else:\n",
    "            plt.scatter(pro_pose[0][pose3d.joint_dict[joint]],pro_pose[1][pose3d.joint_dict[joint]], c='purple')\n",
    "\n",
    "joints2keep = ['left hip', 'right hip', 'nose', 'right shoulder','left shoulder', 'right eye','left eye',\n",
    "               'right ear','left ear','center shoulder','center hip','center back','head', 'right elbow',\n",
    "              'right wrist', 'left elbow', 'left wrist']\n",
    "for joint in pose3d.joint_names:\n",
    "    if joint in joints2keep:\n",
    "        if 'right' in joint:\n",
    "            plt.scatter(base_3dpose_data[0][0][pose3d.joint_dict[joint]],base_3dpose_data[0][1][pose3d.joint_dict[joint]], c='blue')\n",
    "        else:\n",
    "            plt.scatter(base_3dpose_data[0][0][pose3d.joint_dict[joint]],base_3dpose_data[0][1][pose3d.joint_dict[joint]], c='red')"
   ]
  },
  {
   "cell_type": "code",
   "execution_count": 44,
   "metadata": {},
   "outputs": [
    {
     "data": {
      "image/png": "[encoded data removed]",
      "text/plain": [
       "<Figure size 432x288 with 1 Axes>"
      ]
     },
     "metadata": {
      "needs_background": "light"
     },
     "output_type": "display_data"
    }
   ],
   "source": []
  },
  {
   "cell_type": "code",
   "execution_count": null,
   "metadata": {},
   "outputs": [],
   "source": [
    "base_3dpose_data[0]"
   ]
  },
  {
   "cell_type": "code",
   "execution_count": 35,
   "metadata": {},
   "outputs": [
    {
     "data": {
      "text/plain": [
       "array([-0.23106536,  0.0016237 ,  0.72954707, -0.19661199,  0.03749859,\n",
       "        0.4551198 , -0.24849364, -0.20829254,  0.29132627, -0.16778946,\n",
       "        0.03076067,  0.17952503, -0.21792482, -0.38868155,  0.55399543,\n",
       "       -0.11876305, -0.17284492,  0.7370659 , -0.2395581 , -0.23139061,\n",
       "        0.97818844, -0.10643628,  0.05079222, -0.02942738,  0.0774671 ,\n",
       "        0.33029173, -0.21216845,  0.25247397,  0.59627018, -0.38606925,\n",
       "        0.10643628, -0.05079222,  0.02942738,  0.29033965,  0.2287073 ,\n",
       "       -0.1533137 ,  0.46534652,  0.49468575, -0.32721449, -0.27325551,\n",
       "       -0.04512874,  0.77036241, -0.21613052, -0.04958073,  0.78233673,\n",
       "       -0.3241023 , -0.10833963,  0.73924665, -0.16708735, -0.12057647,\n",
       "        0.77215951, -0.22186708, -0.14553744,  0.63095172,  0.        ,\n",
       "        0.        ,  0.        , -0.16830834, -0.25579791,  0.1672446 ,\n",
       "       -0.24559482, -0.11445805,  0.75570308])"
      ]
     },
     "execution_count": 35,
     "metadata": {},
     "output_type": "execute_result"
    }
   ],
   "source": [
    "data_set_3d[0]"
   ]
  },
  {
   "cell_type": "code",
   "execution_count": null,
   "metadata": {},
   "outputs": [],
   "source": []
  }
 ],
 "metadata": {
  "kernelspec": {
   "display_name": "Python 3",
   "language": "python",
   "name": "python3"
  },
  "language_info": {
   "codemirror_mode": {
    "name": "ipython",
    "version": 3
   },
   "file_extension": ".py",
   "mimetype": "text/x-python",
   "name": "python",
   "nbconvert_exporter": "python",
   "pygments_lexer": "ipython3",
   "version": "3.7.4"
  }
 },
 "nbformat": 4,
 "nbformat_minor": 2
}
